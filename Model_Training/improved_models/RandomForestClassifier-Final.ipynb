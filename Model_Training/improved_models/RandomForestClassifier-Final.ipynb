{
 "cells": [
  {
   "cell_type": "code",
   "execution_count": 55,
   "metadata": {},
   "outputs": [],
   "source": [
    "import pandas as pd\n",
    "import sklearn\n",
    "from sklearn.model_selection import train_test_split\n",
    "from sklearn.ensemble import RandomForestClassifier\n",
    "from sklearn.metrics import balanced_accuracy_score\n",
    "import pickle"
   ]
  },
  {
   "cell_type": "code",
   "execution_count": 56,
   "metadata": {},
   "outputs": [],
   "source": [
    "training_df = pd.read_csv('../final_dataset.csv', index_col=0)\n",
    "training_df = training_df.dropna()\n",
    "ground_truth = training_df['Buy']\n",
    "training_df = training_df.drop(['Unnamed: 0.1', 'Symbol', 'beta', 'profitMargins','Name', 'Analyst', 'agora_pred'],\n",
    "                          axis=1)\n",
    "X = training_df[['headline_polarity', 'convo_polarity','forwardEps','bookValue', 'heldPercentInstitutions', \n",
    "        'shortRatio', 'shortPercentOfFloat']]\n",
    "y = training_df['Buy']"
   ]
  },
  {
   "cell_type": "code",
   "execution_count": 57,
   "metadata": {},
   "outputs": [
    {
     "name": "stdout",
     "output_type": "stream",
     "text": [
      "0.9389312977099237\n",
      "0.8889639639639639\n"
     ]
    }
   ],
   "source": [
    "max_accuracy = -1\n",
    "highest_accuracy_model = None\n",
    "balanced_accuracy = -1\n",
    "\n",
    "test_split_ll = 0.15\n",
    "test_split_ul = 0.50\n",
    "test_split = test_split_ll\n",
    "\n",
    "while test_split <= test_split_ul:\n",
    "    for i in range(1, 201):\n",
    "        X_train, X_test, y_train, y_test = train_test_split(X, y, test_size=test_split)\n",
    "        model = RandomForestClassifier(n_estimators=i)\n",
    "        model.fit(X_train, y_train)\n",
    "        predictions = model.predict(X_test)\n",
    "\n",
    "        if sklearn.metrics.accuracy_score(predictions, y_test) > max_accuracy:\n",
    "            max_accuracy = sklearn.metrics.accuracy_score(predictions, y_test)\n",
    "            balanced_accuracy = max(balanced_accuracy, balanced_accuracy_score(predictions, y_test))\n",
    "            highest_accuracy_model = model\n",
    "    \n",
    "    test_split += 0.1\n",
    "        \n",
    "print(max_accuracy)\n",
    "print(balanced_accuracy)"
   ]
  },
  {
   "cell_type": "code",
   "execution_count": 58,
   "metadata": {},
   "outputs": [],
   "source": [
    "#pickle.dump(highest_accuracy_model, open('RF_pickled_final_df.pkl', 'wb'))"
   ]
  },
  {
   "cell_type": "code",
   "execution_count": null,
   "metadata": {},
   "outputs": [],
   "source": []
  }
 ],
 "metadata": {
  "kernelspec": {
   "display_name": "Python 3",
   "language": "python",
   "name": "python3"
  },
  "language_info": {
   "codemirror_mode": {
    "name": "ipython",
    "version": 3
   },
   "file_extension": ".py",
   "mimetype": "text/x-python",
   "name": "python",
   "nbconvert_exporter": "python",
   "pygments_lexer": "ipython3",
   "version": "3.8.5"
  }
 },
 "nbformat": 4,
 "nbformat_minor": 4
}
