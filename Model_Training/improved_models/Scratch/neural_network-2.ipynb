{
 "cells": [
  {
   "cell_type": "code",
   "execution_count": 143,
   "metadata": {},
   "outputs": [],
   "source": [
    "import pandas as pd\n",
    "from sklearn.model_selection import train_test_split\n",
    "import keras\n",
    "from keras.datasets import mnist\n",
    "from keras.models import Sequential\n",
    "from keras.layers import Dense, Dropout, Conv2D, MaxPooling2D, Flatten\n",
    "from keras.optimizers import RMSprop\n",
    "from keras.datasets import fashion_mnist\n",
    "import numpy as np\n",
    "import matplotlib.pyplot as plt\n",
    "from sklearn.preprocessing import LabelEncoder\n",
    "from sklearn.preprocessing import MinMaxScaler"
   ]
  },
  {
   "cell_type": "code",
   "execution_count": 160,
   "metadata": {},
   "outputs": [],
   "source": [
    "training_df = pd.read_csv('balanced_nn_ds.csv', index_col=0)\n",
    "scaler = MinMaxScaler()\n",
    "training_df[['headline_polarity', 'convo_polarity', 'forwardEps','bookValue', 'heldPercentInstitutions', \n",
    "        'shortRatio', 'shortPercentOfFloat']] = scaler.fit_transform(training_df[['headline_polarity', 'convo_polarity', 'forwardEps','bookValue', 'heldPercentInstitutions', \n",
    "        'shortRatio', 'shortPercentOfFloat']])\n",
    "\n",
    "X = training_df[['headline_polarity', 'convo_polarity', 'forwardEps','bookValue', 'heldPercentInstitutions', \n",
    "        'shortRatio', 'shortPercentOfFloat']]\n",
    "y = training_df['Prediction']\n",
    "\n",
    "encoder = LabelEncoder()\n",
    "y = encoder.fit_transform(y)\n",
    "\n",
    "X_train, X_test, y_train, y_test = train_test_split(X, y, test_size=0.3, stratify=y)"
   ]
  },
  {
   "cell_type": "code",
   "execution_count": 161,
   "metadata": {},
   "outputs": [
    {
     "name": "stdout",
     "output_type": "stream",
     "text": [
      "Test loss: 0.8205546736717224\n",
      "Test accuracy: 0.6176470518112183\n"
     ]
    }
   ],
   "source": [
    "from tensorflow.keras.layers import Dense, Embedding, LSTM\n",
    "\n",
    "model = Sequential()\n",
    "model.add(Dense(64, activation='softmax', input_shape=(7,)))\n",
    "model.add(Dropout(0.5))\n",
    "model.add(Dense(32, activation='relu'))\n",
    "model.add(Dropout(0.5))\n",
    "model.add(Dense(16, activation='relu'))\n",
    "model.add(Dropout(0.5))\n",
    "model.add(Dense(10, activation='softmax'))\n",
    "\n",
    "model.compile(loss='sparse_categorical_crossentropy',\n",
    "              optimizer='adam',\n",
    "              metrics=['accuracy'])\n",
    "\n",
    "\n",
    "history = model.fit(\n",
    "    X_train, y_train,\n",
    "    batch_size=16,\n",
    "    epochs=20,\n",
    "    verbose=0,\n",
    "    validation_data=(X_test, y_test))\n",
    "\n",
    "score = model.evaluate(X_test, y_test, verbose=0)\n",
    "print('Test loss:', score[0])\n",
    "print('Test accuracy:', score[1])"
   ]
  },
  {
   "cell_type": "code",
   "execution_count": 162,
   "metadata": {},
   "outputs": [
    {
     "data": {
      "text/plain": [
       "Buy     770\n",
       "Hold    410\n",
       "Sell     66\n",
       "Name: Prediction, dtype: int64"
      ]
     },
     "execution_count": 162,
     "metadata": {},
     "output_type": "execute_result"
    }
   ],
   "source": [
    "training_df['Prediction'].value_counts()"
   ]
  },
  {
   "cell_type": "code",
   "execution_count": 163,
   "metadata": {},
   "outputs": [
    {
     "name": "stderr",
     "output_type": "stream",
     "text": [
      "100%|██████████| 29/29 [00:01<00:00, 17.99it/s]"
     ]
    },
    {
     "name": "stdout",
     "output_type": "stream",
     "text": [
      "                               Accuracy  Balanced Accuracy ROC AUC  F1 Score  \\\n",
      "Model                                                                          \n",
      "RandomForestClassifier             0.82               0.58    None      0.81   \n",
      "GaussianNB                         0.60               0.58    None      0.64   \n",
      "BaggingClassifier                  0.79               0.58    None      0.78   \n",
      "XGBClassifier                      0.82               0.58    None      0.81   \n",
      "AdaBoostClassifier                 0.78               0.57    None      0.78   \n",
      "ExtraTreesClassifier               0.82               0.57    None      0.80   \n",
      "LGBMClassifier                     0.81               0.57    None      0.80   \n",
      "ExtraTreeClassifier                0.76               0.55    None      0.76   \n",
      "DecisionTreeClassifier             0.76               0.53    None      0.76   \n",
      "KNeighborsClassifier               0.79               0.53    None      0.77   \n",
      "SVC                                0.78               0.53    None      0.76   \n",
      "LabelSpreading                     0.74               0.52    None      0.73   \n",
      "NearestCentroid                    0.60               0.52    None      0.62   \n",
      "LabelPropagation                   0.74               0.52    None      0.73   \n",
      "BernoulliNB                        0.74               0.49    None      0.72   \n",
      "QuadraticDiscriminantAnalysis      0.38               0.42    None      0.45   \n",
      "SGDClassifier                      0.64               0.41    None      0.62   \n",
      "PassiveAggressiveClassifier        0.65               0.39    None      0.57   \n",
      "Perceptron                         0.43               0.39    None      0.44   \n",
      "DummyClassifier                    0.53               0.36    None      0.53   \n",
      "CalibratedClassifierCV             0.62               0.34    None      0.48   \n",
      "LogisticRegression                 0.59               0.33    None      0.50   \n",
      "RidgeClassifier                    0.59               0.33    None      0.49   \n",
      "RidgeClassifierCV                  0.59               0.33    None      0.49   \n",
      "LinearSVC                          0.59               0.33    None      0.49   \n",
      "LinearDiscriminantAnalysis         0.59               0.33    None      0.49   \n",
      "\n",
      "                               Time Taken  \n",
      "Model                                      \n",
      "RandomForestClassifier               0.16  \n",
      "GaussianNB                           0.01  \n",
      "BaggingClassifier                    0.03  \n",
      "XGBClassifier                        0.22  \n",
      "AdaBoostClassifier                   0.11  \n",
      "ExtraTreesClassifier                 0.12  \n",
      "LGBMClassifier                       0.25  \n",
      "ExtraTreeClassifier                  0.01  \n",
      "DecisionTreeClassifier               0.01  \n",
      "KNeighborsClassifier                 0.02  \n",
      "SVC                                  0.02  \n",
      "LabelSpreading                       0.03  \n",
      "NearestCentroid                      0.01  \n",
      "LabelPropagation                     0.03  \n",
      "BernoulliNB                          0.01  \n",
      "QuadraticDiscriminantAnalysis        0.01  \n",
      "SGDClassifier                        0.01  \n",
      "PassiveAggressiveClassifier          0.01  \n",
      "Perceptron                           0.01  \n",
      "DummyClassifier                      0.01  \n",
      "CalibratedClassifierCV               0.35  \n",
      "LogisticRegression                   0.02  \n",
      "RidgeClassifier                      0.01  \n",
      "RidgeClassifierCV                    0.01  \n",
      "LinearSVC                            0.11  \n",
      "LinearDiscriminantAnalysis           0.01  \n"
     ]
    },
    {
     "name": "stderr",
     "output_type": "stream",
     "text": [
      "\n"
     ]
    }
   ],
   "source": [
    "from lazypredict.Supervised import LazyClassifier\n",
    "clf = LazyClassifier(verbose=0,ignore_warnings=True, custom_metric=None)\n",
    "models,predictions = clf.fit(X_train, X_test, y_train, y_test)\n",
    "print(models)"
   ]
  },
  {
   "cell_type": "code",
   "execution_count": null,
   "metadata": {},
   "outputs": [],
   "source": []
  }
 ],
 "metadata": {
  "kernelspec": {
   "display_name": "Python 3",
   "language": "python",
   "name": "python3"
  },
  "language_info": {
   "codemirror_mode": {
    "name": "ipython",
    "version": 3
   },
   "file_extension": ".py",
   "mimetype": "text/x-python",
   "name": "python",
   "nbconvert_exporter": "python",
   "pygments_lexer": "ipython3",
   "version": "3.8.5"
  }
 },
 "nbformat": 4,
 "nbformat_minor": 4
}
