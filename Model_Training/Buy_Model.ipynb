{
 "cells": [
  {
   "cell_type": "markdown",
   "metadata": {},
   "source": [
    "# Dependencies"
   ]
  },
  {
   "cell_type": "code",
   "execution_count": 169,
   "metadata": {},
   "outputs": [],
   "source": [
    "import pandas as pd\n",
    "import numpy as np\n",
    "from sklearn.linear_model import LogisticRegression\n",
    "from sklearn.model_selection import train_test_split\n",
    "from sklearn.metrics import classification_report\n",
    "from sklearn.preprocessing import MinMaxScaler\n",
    "from __future__ import print_function\n",
    "import keras\n",
    "from keras.datasets import cifar10\n",
    "from keras.models import Sequential\n",
    "from keras.layers import Dense, Dropout, Activation, Flatten\n",
    "from keras.layers import Conv2D, MaxPooling2D\n",
    "import tensorflow as tf\n",
    "import matplotlib.pyplot as plt"
   ]
  },
  {
   "cell_type": "markdown",
   "metadata": {},
   "source": [
    "# Creating/Cleaning Training Data"
   ]
  },
  {
   "cell_type": "code",
   "execution_count": 170,
   "metadata": {
    "scrolled": false
   },
   "outputs": [],
   "source": [
    "# pd.set_option(\"display.max_rows\", None, \"display.max_columns\", None)\n",
    "training_df = pd.read_csv('training_data.csv', index_col=0)\n",
    "training_df['Buy'] = \"\"\n",
    "buy_classification = ['buy', 'outperform', 'positive']\n",
    "\n",
    "for index, row in training_df.iterrows():\n",
    "    ticker = row['Ticker'].lower()\n",
    "    analyst_suggestions = pd.read_csv('../Data_Collection/Scrapers/Final_Analyst_Rating.csv', index_col=0)\n",
    "    for inner_index, inner_row in analyst_suggestions.iterrows():\n",
    "        if analyst_suggestions.at[inner_index, 'Ticker'].lower() == ticker:\n",
    "            if analyst_suggestions.at[inner_index, 'Rating'].lower() in buy_classification:\n",
    "                training_df.at[index, 'Buy'] = 1\n",
    "            else:\n",
    "                training_df.at[index, 'Buy'] = 0\n",
    "\n",
    "# Scaling the data\n",
    "Scaler = MinMaxScaler()\n",
    "cols = [x for x in training_df.columns if x not in ['Buy', 'Ticker']]\n",
    "training_df[cols] = Scaler.fit_transform(training_df[cols])\n",
    "\n",
    "##### TEMPORARY ######\n",
    "cols_to_change = [x for x in training_df.columns if x not in ['Buy', 'Ticker']]\n",
    "for col in cols_to_change:\n",
    "    training_df.fillna(value=training_df[col].mean(), inplace=True)\n",
    "######################\n",
    "\n",
    "# training_df.drop(['payoutRatio', 'regularMarketVolume', 'sharesShort', 'mostRecentQuarter', 'forwardEps'\n",
    "#                  ,'bookValue', 'sharesShort', 'sharesPercentSharesOut', 'mostRecentQuarter', 'nextFiscalYearEnd'\n",
    "#                  , 'enterpriseValue', 'sharesShortPriorMonth', 'shortPercentOfFloat', 'earningsQuarterlyGrowth'],\n",
    "#                  axis=1, inplace=True)"
   ]
  },
  {
   "cell_type": "code",
   "execution_count": 192,
   "metadata": {},
   "outputs": [],
   "source": [
    "X_total = training_df[[x for x in training_df.columns if x not in ['Buy', 'Ticker']]]\n",
    "y_total = training_df['Buy']\n",
    "X_train, X_test, y_train, y_test = train_test_split(X_total, y_total, test_size=0.33, random_state=42)"
   ]
  },
  {
   "cell_type": "markdown",
   "metadata": {},
   "source": [
    "# Training the model - CNN"
   ]
  },
  {
   "cell_type": "code",
   "execution_count": 228,
   "metadata": {},
   "outputs": [],
   "source": [
    "model = keras.Sequential([\n",
    "    keras.layers.Dense(16, activation=tf.nn.relu),\n",
    "    keras.layers.Dense(16, activation=tf.nn.relu),\n",
    "    keras.layers.Dense(16, activation=tf.nn.relu),\n",
    "    keras.layers.Dense(16, activation=tf.nn.relu),\n",
    "    keras.layers.Dense(16, activation=tf.nn.relu),\n",
    "    keras.layers.Dense(16, activation=tf.nn.relu),\n",
    "    keras.layers.Dense(16, activation=tf.nn.relu),\n",
    "    keras.layers.Dense(1, activation=tf.nn.sigmoid),\n",
    "])"
   ]
  },
  {
   "cell_type": "code",
   "execution_count": 230,
   "metadata": {},
   "outputs": [
    {
     "name": "stdout",
     "output_type": "stream",
     "text": [
      "Test accuracy: 0.5\n"
     ]
    }
   ],
   "source": [
    "opt = keras.optimizers.RMSprop(lr=0.0001, decay=1e-6)\n",
    "model.compile(loss='binary_crossentropy', optimizer=opt, metrics=['accuracy'])\n",
    "model.fit(X_train, y_train, epochs=100, shuffle=True, validation_data=(X_test, y_test), verbose=0)\n",
    "score = model.evaluate(X_test, y_test, verbose=0)\n",
    "print('Test accuracy:', score[1])"
   ]
  },
  {
   "cell_type": "code",
   "execution_count": null,
   "metadata": {},
   "outputs": [],
   "source": []
  }
 ],
 "metadata": {
  "kernelspec": {
   "display_name": "Python 3",
   "language": "python",
   "name": "python3"
  },
  "language_info": {
   "codemirror_mode": {
    "name": "ipython",
    "version": 3
   },
   "file_extension": ".py",
   "mimetype": "text/x-python",
   "name": "python",
   "nbconvert_exporter": "python",
   "pygments_lexer": "ipython3",
   "version": "3.8.5"
  }
 },
 "nbformat": 4,
 "nbformat_minor": 4
}
