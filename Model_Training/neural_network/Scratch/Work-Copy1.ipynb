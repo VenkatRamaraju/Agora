{
 "cells": [
  {
   "cell_type": "code",
   "execution_count": 126,
   "metadata": {},
   "outputs": [],
   "source": [
    "import pandas as pd\n",
    "from sklearn.preprocessing import LabelEncoder\n",
    "from sklearn.model_selection import train_test_split"
   ]
  },
  {
   "cell_type": "code",
   "execution_count": 127,
   "metadata": {},
   "outputs": [],
   "source": [
    "training_df = pd.read_csv('nn.csv', index_col=0)\n",
    "training_df.drop(columns=[training_df.columns[0], training_df.columns[1], training_df.columns[2], \n",
    "                          training_df.columns[3], training_df.columns[len(training_df.columns)-1]], \n",
    "                 axis=1,  inplace=True)\n",
    "cols_at_end = ['Analyst']\n",
    "training_df = training_df[[c for c in training_df if c not in cols_at_end] \n",
    "        + [c for c in cols_at_end if c in training_df]]\n",
    "\n",
    "# Fill in missing\n",
    "def fillMissing(df, feature, method):\n",
    "  if method == \"mode\":\n",
    "    df[feature] = df[feature].fillna(df[feature].mode()[0])\n",
    "  elif method == \"median\":\n",
    "    df[feature] = df[feature].fillna(df[feature].median())\n",
    "  else:\n",
    "    df[feature] = df[feature].fillna(df[feature].mean())\n",
    "\n",
    "features_missing = training_df.columns[training_df.isna().any()]\n",
    "copy_df = training_df.copy()\n",
    "for feature in features_missing:\n",
    "  fillMissing(training_df, feature = feature, method = \"mean\")\n",
    "training_df = training_df.round(2)"
   ]
  },
  {
   "cell_type": "code",
   "execution_count": 128,
   "metadata": {},
   "outputs": [],
   "source": [
    "def f(row):\n",
    "    if row['Analyst'] == 'Strong Buy' or row['Analyst'] == 'Buy':\n",
    "        val = 'Buy'\n",
    "    elif row['Analyst'] == 'Strong Sell' or row['Analyst'] == 'Sell':\n",
    "        val = 'Sell'\n",
    "    elif row['Analyst'] == 'Hold':\n",
    "        val = 'Hold'\n",
    "    else:\n",
    "        val = 'Invalid'\n",
    "    return val\n",
    "\n",
    "training_df['Prediction'] = training_df.apply(f, axis=1)"
   ]
  },
  {
   "cell_type": "code",
   "execution_count": 129,
   "metadata": {},
   "outputs": [],
   "source": [
    "X = training_df[['headline_polarity', 'convo_polarity', 'forwardEps','bookValue', 'heldPercentInstitutions', \n",
    "        'shortRatio', 'shortPercentOfFloat']]\n",
    "y = training_df['Prediction']\n",
    "\n",
    "encoder = LabelEncoder()\n",
    "y = encoder.fit_transform(y)\n",
    "\n",
    "X_train, X_test, y_train, y_test = train_test_split(X, y, test_size=0.2, stratify=y)"
   ]
  },
  {
   "cell_type": "code",
   "execution_count": 130,
   "metadata": {},
   "outputs": [
    {
     "data": {
      "text/plain": [
       "Buy     3849\n",
       "Hold     410\n",
       "Sell      66\n",
       "Name: Prediction, dtype: int64"
      ]
     },
     "execution_count": 130,
     "metadata": {},
     "output_type": "execute_result"
    }
   ],
   "source": [
    "training_df['Prediction'].value_counts()"
   ]
  },
  {
   "cell_type": "code",
   "execution_count": 144,
   "metadata": {},
   "outputs": [
    {
     "name": "stdout",
     "output_type": "stream",
     "text": [
      "Test loss: 0.42268308997154236\n",
      "Test accuracy: 0.8901734352111816\n"
     ]
    }
   ],
   "source": [
    "import pandas as pd\n",
    "from sklearn.model_selection import train_test_split\n",
    "import keras\n",
    "from keras.datasets import mnist\n",
    "from keras.models import Sequential\n",
    "from keras.layers import Dense, Dropout, Conv2D, MaxPooling2D, Flatten\n",
    "from keras.optimizers import RMSprop\n",
    "from keras.datasets import fashion_mnist\n",
    "import numpy as np\n",
    "import matplotlib.pyplot as plt\n",
    "from sklearn.preprocessing import LabelEncoder\n",
    "\n",
    "model = Sequential()\n",
    "model.add(Dense(128, activation='relu', input_shape=(7,)))\n",
    "model.add(Dropout(0.5))\n",
    "model.add(Dense(64, activation='relu'))\n",
    "model.add(Dropout(0.5))\n",
    "model.add(Dense(64, activation='relu'))\n",
    "model.add(Dropout(0.5))\n",
    "model.add(Dense(10, activation='softmax'))\n",
    "model.compile(loss='sparse_categorical_crossentropy',\n",
    "              optimizer=RMSprop(lr=0.001),\n",
    "              metrics=['accuracy'])\n",
    "\n",
    "history = model.fit(\n",
    "    X_train, y_train,\n",
    "    batch_size=16,\n",
    "    epochs=50,\n",
    "    verbose=0,\n",
    "    validation_data=(X_test, y_test))\n",
    "\n",
    "score = model.evaluate(X_test, y_test, verbose=0)\n",
    "print('Test loss:', score[0])\n",
    "print('Test accuracy:', score[1])"
   ]
  },
  {
   "cell_type": "code",
   "execution_count": null,
   "metadata": {},
   "outputs": [],
   "source": []
  }
 ],
 "metadata": {
  "kernelspec": {
   "display_name": "Python 3",
   "language": "python",
   "name": "python3"
  },
  "language_info": {
   "codemirror_mode": {
    "name": "ipython",
    "version": 3
   },
   "file_extension": ".py",
   "mimetype": "text/x-python",
   "name": "python",
   "nbconvert_exporter": "python",
   "pygments_lexer": "ipython3",
   "version": "3.8.5"
  }
 },
 "nbformat": 4,
 "nbformat_minor": 4
}
