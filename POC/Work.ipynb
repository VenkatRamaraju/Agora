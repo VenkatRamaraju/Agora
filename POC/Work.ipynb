{
 "cells": [
  {
   "cell_type": "code",
   "execution_count": 322,
   "metadata": {},
   "outputs": [],
   "source": [
    "import pandas as pd\n",
    "from sklearn.model_selection import train_test_split\n",
    "from sklearn.preprocessing import MinMaxScaler\n",
    "from sklearn.metrics import classification_report\n",
    "from sklearn.linear_model import LogisticRegression\n",
    "from sklearn import metrics\n",
    "from sklearn.metrics import accuracy_score\n",
    "pd.set_option(\"display.max_rows\", None, \"display.max_columns\", None)"
   ]
  },
  {
   "cell_type": "code",
   "execution_count": 323,
   "metadata": {},
   "outputs": [],
   "source": [
    "def run_model(added_cols):\n",
    "    training_df = pd.read_csv('recent_training_data.csv',index_col=[0])\n",
    "    list_of_cols = [x for x in training_df.columns if x in ['Buy', 'Ticker', 'Headlines']]\n",
    "    training_df['Headlines'] = training_df['Headlines'] * 2\n",
    "    \n",
    "    # Cols used in DF\n",
    "    for to_be_added in added_cols:\n",
    "        list_of_cols.append(to_be_added)\n",
    "\n",
    "    training_df = training_df[list_of_cols]\n",
    "    training_df = training_df.dropna()\n",
    "#     Scaler = MinMaxScaler()\n",
    "#     cols = [x for x in training_df.columns if x not in ['Buy', 'Ticker']]\n",
    "#     training_df[cols] = Scaler.fit_transform(training_df[cols])\n",
    "    \n",
    "    # Creating training and testing datasets\n",
    "    X_total = training_df[[x for x in training_df.columns if x not in ['Buy', 'Ticker']]]\n",
    "    y_total = training_df['Buy']\n",
    "    X_train, X_test, y_train, y_test = train_test_split(X_total, y_total, test_size=0.33, random_state=42)\n",
    "    \n",
    "    # Logistic Regression Mode\n",
    "    LR = LogisticRegression(class_weight='balanced')\n",
    "    try:\n",
    "        LR = LR.fit(X_train, y_train)\n",
    "    except Exception as e:\n",
    "        return -1\n",
    "\n",
    "    y_prediction = LR.predict(X_test)\n",
    "    return accuracy_score(y_test, y_prediction)"
   ]
  },
  {
   "cell_type": "code",
   "execution_count": 324,
   "metadata": {},
   "outputs": [],
   "source": [
    "training_df = pd.read_csv('recent_training_data.csv',index_col=[0])\n",
    "list_of_cols = [x for x in training_df.columns if x not in ['Buy', 'Ticker', 'Headlines']]"
   ]
  },
  {
   "cell_type": "code",
   "execution_count": 325,
   "metadata": {},
   "outputs": [
    {
     "data": {
      "text/plain": [
       "0.7076923076923077"
      ]
     },
     "execution_count": 325,
     "metadata": {},
     "output_type": "execute_result"
    }
   ],
   "source": [
    "run_model(['earningsQuarterlyGrowth'])"
   ]
  },
  {
   "cell_type": "code",
   "execution_count": 326,
   "metadata": {},
   "outputs": [],
   "source": [
    "def subsets(nums):\n",
    "        res=[]\n",
    "        subset=[]\n",
    "        def dfs(i):\n",
    "            if i>= len(nums):\n",
    "                res.append(subset.copy())\n",
    "                return \n",
    "            subset.append(nums[i])\n",
    "            dfs(i+1)\n",
    "            \n",
    "            subset.pop()\n",
    "            dfs(i+1)\n",
    "        dfs(0)        \n",
    "        return res\n",
    "\n",
    "arr = ['Conversations', 'payoutRatio', 'beta', 'regularMarketVolume', 'profitMargins', '52WeekChange', 'forwardEps', 'bookValue', 'sharesShort', 'sharesPercentSharesOut', 'trailingEps', 'heldPercentInstitutions', 'heldPercentInsiders', 'mostRecentQuarter', 'nextFiscalYearEnd', 'shortRatio', 'enterpriseValue', 'earningsQuarterlyGrowth', 'sharesShortPriorMonth', 'shortPercentOfFloat', 'pegRatio']"
   ]
  },
  {
   "cell_type": "code",
   "execution_count": 328,
   "metadata": {},
   "outputs": [],
   "source": [
    "max_accuracy = 0\n",
    "max_subset_cols = []\n",
    "result = subsets(arr)\n",
    "\n",
    "for permutation in result:\n",
    "    permutation_accuracy = run_model(permutation)\n",
    "    if permutation_accuracy > max_accuracy:\n",
    "        max_accuracy = permutation_accuracy\n",
    "        max_subset_cols = permutation.copy()\n",
    "\n",
    "print(max_accuracy)\n",
    "print(max_subset_cols)"
   ]
  }
 ],
 "metadata": {
  "kernelspec": {
   "display_name": "Python 3",
   "language": "python",
   "name": "python3"
  },
  "language_info": {
   "codemirror_mode": {
    "name": "ipython",
    "version": 3
   },
   "file_extension": ".py",
   "mimetype": "text/x-python",
   "name": "python",
   "nbconvert_exporter": "python",
   "pygments_lexer": "ipython3",
   "version": "3.8.5"
  }
 },
 "nbformat": 4,
 "nbformat_minor": 4
}
